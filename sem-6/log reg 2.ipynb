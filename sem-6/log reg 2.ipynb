{
 "cells": [
  {
   "cell_type": "code",
   "execution_count": 3,
   "metadata": {
    "collapsed": false
   },
   "outputs": [
   ],
   "source": [
    "%matplotlib inline"
   ]
  },
  {
   "cell_type": "code",
   "execution_count": 23,
   "metadata": {
    "collapsed": false
   },
   "outputs": [
   ],
   "source": [
    "import numpy as np\n",
    "import matplotlib.pyplot as plt\n",
    "import pandas as pd\n",
    "from sklearn import linear_model, datasets\n",
    "from sklearn.model_selection import train_test_split\n",
    "from sklearn.metrics import mean_squared_error"
   ]
  },
  {
   "cell_type": "code",
   "execution_count": 16,
   "metadata": {
    "collapsed": false
   },
   "outputs": [
   ],
   "source": [
    "housing = datasets.load_boston()\n",
    "boston = pd.DataFrame(housing.data, columns=housing.feature_names)\n",
    "boston['PRICE'] = housing.target\n",
    "X = boston.drop('PRICE', axis=1)\n",
    "Y = boston['PRICE']"
   ]
  },
  {
   "cell_type": "code",
   "execution_count": 17,
   "metadata": {
    "collapsed": false
   },
   "outputs": [
    {
     "name": "stdout",
     "output_type": "stream",
     "text": [
      "(404, 13) (102, 13)\n",
      "(404,) (102,)\n"
     ]
    }
   ],
   "source": [
    "x_train, x_test, y_train, y_test = train_test_split(X, Y, test_size=0.2, random_state=5)\n",
    "print(x_train.shape, x_test.shape)\n",
    "print(y_train.shape, y_test.shape)"
   ]
  },
  {
   "cell_type": "code",
   "execution_count": 19,
   "metadata": {
    "collapsed": false
   },
   "outputs": [
    {
     "data": {
      "text/plain": [
       "226    False\n",
       "292    False\n",
       "90     False\n",
       "373    False\n",
       "273    False\n",
       "417    False\n",
       "503    False\n",
       "234    False\n",
       "111    False\n",
       "472    False\n",
       "99     False\n",
       "339    False\n",
       "309    False\n",
       "304    False\n",
       "272    False\n",
       "346    False\n",
       "412    False\n",
       "151    False\n",
       "496    False\n",
       "410    False\n",
       "490    False\n",
       "132    False\n",
       "224    False\n",
       "318    False\n",
       "284    False\n",
       "444    False\n",
       "321    False\n",
       "116    False\n",
       "333    False\n",
       "351    False\n",
       "       ...  \n",
       "49     False\n",
       "409    False\n",
       "407    False\n",
       "353    False\n",
       "170    False\n",
       "149    False\n",
       "263    False\n",
       "421    False\n",
       "471    False\n",
       "163    False\n",
       "221    False\n",
       "434    False\n",
       "66     False\n",
       "449    False\n",
       "499    False\n",
       "392    False\n",
       "297    False\n",
       "352    False\n",
       "186    False\n",
       "21     False\n",
       "479    False\n",
       "442    False\n",
       "329    False\n",
       "52     False\n",
       "134    False\n",
       "349    False\n",
       "212    False\n",
       "156    False\n",
       "480    False\n",
       "248    False\n",
       "Name: PRICE, Length: 102, dtype: bool"
      ]
     },
     "execution_count": 19,
     "metadata": {
     },
     "output_type": "execute_result"
    }
   ],
   "source": [
    "model = linear_model.LinearRegression(normalize=True)\n",
    "model.fit(x_train, y_train)\n",
    "y_pred = model.predict(x_test)\n",
    "y_pred == y_test"
   ]
  },
  {
   "cell_type": "code",
   "execution_count": 22,
   "metadata": {
    "collapsed": false
   },
   "outputs": [
    {
     "name": "stdout",
     "output_type": "stream",
     "text": [
      "20.869292183770842\n"
     ]
    }
   ],
   "source": [
    "print(mean_squared_error(y_pred, y_test))"
   ]
  },
  {
   "cell_type": "code",
   "execution_count": 32,
   "metadata": {
    "collapsed": false
   },
   "outputs": [
    {
     "name": "stdout",
     "output_type": "stream",
     "text": [
      "-0.13079985223476 0.0494030235424028\n"
     ]
    },
    {
     "data": {
      "text/plain": [
       "[<matplotlib.lines.Line2D at 0x7fb77936a5c0>]"
      ]
     },
     "execution_count": 32,
     "metadata": {
     },
     "output_type": "execute_result"
    },
    {
     "data": {
      "image/png": "[encoded data removed]",
      "text/plain": [
       "<matplotlib.figure.Figure at 0x7fb7794875c0>"
      ]
     },
     "execution_count": 32,
     "metadata": {
      "image/png": {
       "height": 250,
       "width": 370
      }
     },
     "output_type": "execute_result"
    }
   ],
   "source": [
    "theta0 = model.coef_[0]\n",
    "theta1 = model.coef_[1]\n",
    "print(theta0, theta1)\n",
    "plt.scatter(y_pred, y_test, marker='x')\n",
    "plt.plot(y_pred, theta0+theta1*y_pred, 'g')"
   ]
  },
  {
   "cell_type": "code",
   "execution_count": 0,
   "metadata": {
    "collapsed": false
   },
   "outputs": [
   ],
   "source": [
   ]
  }
 ],
 "metadata": {
  "kernelspec": {
   "display_name": "Python 3 (Ubuntu Linux)",
   "language": "python",
   "metadata": {
    "cocalc": {
     "description": "Python 3 programming language",
     "priority": 100,
     "url": "https://www.python.org/"
    }
   },
   "name": "python3"
  },
  "language_info": {
   "codemirror_mode": {
    "name": "ipython",
    "version": 3
   },
   "file_extension": ".py",
   "mimetype": "text/x-python",
   "name": "python",
   "nbconvert_exporter": "python",
   "pygments_lexer": "ipython3",
   "version": "3.6.7"
  }
 },
 "nbformat": 4,
 "nbformat_minor": 0
}